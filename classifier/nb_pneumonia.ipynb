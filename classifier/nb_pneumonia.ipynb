{
  "cells": [
    {
      "cell_type": "markdown",
      "metadata": {
        "id": "x8LsjHlr9WPZ"
      },
      "source": [
        "# Pneumonia detection\n",
        "\n",
        "This notebook contains the implementation of a Convolutional Neural Network built with [PyTorch](https://pytorch.org/) and fine tuned uppon the pre-trained [ResNet18](https://pytorch.org/vision/main/models/generated/torchvision.models.resnet18.html#resnet18) model to work on medical disgnosis of penumonia disease support.\n",
        "\n",
        "| |\n",
        "| ----------- |\n",
        "| **Author**: Hebert Costa \\| [@hjcostabr76](https://github.com/hjcostabr76)      |\n",
        "| Available on [Github](https://github.com/hjcostabr76/ml/blob/master/classification/case-peneumonia/nb_pneumonia.ipynb) |\n",
        "| See also [this](https://github.com/hjcostabr76/ufmg-pdetect) simple prototype that demonstrates a possible real world use of this model applied |"
      ]
    },
    {
      "cell_type": "markdown",
      "metadata": {
        "id": "3vaTF8CS9WPd"
      },
      "source": [
        "Imports"
      ]
    },
    {
      "cell_type": "code",
      "execution_count": null,
      "metadata": {
        "id": "zuXzzFrVlbVS"
      },
      "outputs": [],
      "source": [
        "'''\n",
        "    Run this in case the following imports don't run.\n",
        "    !pip install torch==1.4.0+cu100 torchvision==0.5.0+cu100 -f https://download.pytorch.org/whl/torch_stable.html\n",
        "'''\n",
        "import time\n",
        "import copy\n",
        "import os\n",
        "import cv2\n",
        "import random\n",
        "import torch\n",
        "\n",
        "import pandas as pd\n",
        "import seaborn as sns\n",
        "import numpy as np\n",
        "import matplotlib.pyplot as plt\n",
        "\n",
        "from tqdm import tqdm\n",
        "from sklearn.metrics import confusion_matrix\n",
        "from mlxtend.plotting import plot_confusion_matrix\n",
        "from collections import Counter\n",
        "from sklearn.metrics import roc_curve, RocCurveDisplay, precision_recall_curve, PrecisionRecallDisplay, f1_score\n",
        "\n",
        "from torchvision import transforms, datasets, models\n",
        "from torchvision.transforms.functional import InterpolationMode\n",
        "\n",
        "from torch import optim\n",
        "from torch.utils.data import DataLoader, WeightedRandomSampler\n"
      ]
    },
    {
      "cell_type": "markdown",
      "metadata": {
        "id": "62HBylG-9WPi"
      },
      "source": [
        "### Parameters"
      ]
    },
    {
      "cell_type": "markdown",
      "source": [
        "To run the following cells beware of the google drive root path definition."
      ],
      "metadata": {
        "id": "YUQdBpr4r2HY"
      }
    },
    {
      "cell_type": "markdown",
      "source": [
        "##### About Hiper Parameters"
      ],
      "metadata": {
        "id": "H8pUylgmmCV1"
      }
    },
    {
      "cell_type": "markdown",
      "source": [
        "Through the exploration of the problem five sets of hyperparameters were tested. We see each of these below with their respective result performance metrics _(1st model data has been lost. But it was the worst one)_.\n",
        "\n",
        "As we can see, the performance of the model improved as more combinations were experimented.\n",
        "\n",
        "__Version 02__\n",
        "\n",
        "------------------------------------------------------------------------\n",
        "\n",
        "Hyper Parameters:\n",
        "\n",
        "```\n",
        "version = '02'\n",
        "n_epochs = 4\n",
        "w_decay = 1e-3\n",
        "momentum = 0.9\n",
        "batch_size = 32\n",
        "learn_rate = 0.001\n",
        "optim_algorithm = 'adam'\n",
        "\n",
        "transf_crop = 54\n",
        "transf_resize_test = 54\n",
        "transf_resize_train = 60\n",
        "```\n",
        "\n",
        "Test Results\n",
        "\n",
        "    Accuracy: 0.8798\n",
        "    Precision (average): 0.9461\n",
        "    Recall (average): 0.6175\n",
        "    F1 Score (Normal): 0.8555\n",
        "    F1 Score (Pneumonia): 0.8971\n",
        "\n",
        "\n",
        "__Version 03__\n",
        "\n",
        "------------------------------------------------------------------------\n",
        "\n",
        "Hyper Parameters:\n",
        "\n",
        "```\n",
        "n_epochs = 4\n",
        "w_decay = 1e-3\n",
        "momentum = 0.9\n",
        "batch_size = 32\n",
        "learn_rate = 0.001\n",
        "optim_algorithm = 'adam'\n",
        "\n",
        "transf_crop = 224\n",
        "transf_resize_test = 230\n",
        "transf_resize_train = 255\n",
        "```\n",
        "\n",
        "Test Results\n",
        "\n",
        "    Accuracy: 0.9215\n",
        "    Precision (average): 0.9476\n",
        "    Recall (average): 0.6139\n",
        "    F1 Score (Normal): 0.8960\n",
        "    F1 Score (Pneumonia): 0.9369\n",
        "\n",
        "\n",
        "__Version 04__\n",
        "\n",
        "------------------------------------------------------------------------\n",
        "\n",
        "Hyper Parameters:\n",
        "\n",
        "```\n",
        "n_epochs = 4\n",
        "w_decay = 1e-3\n",
        "momentum = 0.9\n",
        "batch_size = 32\n",
        "learn_rate = 0.001\n",
        "optim_algorithm = 'sgd'\n",
        "\n",
        "transf_crop = 224\n",
        "transf_resize_test = 230\n",
        "transf_resize_train = 255\n",
        "```\n",
        "\n",
        "Test Results\n",
        "\n",
        "    Accuracy: 0.9279\n",
        "    Precision (average): 0.9471\n",
        "    Recall (average): 0.5994\n",
        "    F1 Score (Normal): 0.8993\n",
        "    F1 Score (Pneumonia): 0.9438\n",
        "\n",
        "\n",
        "__Version 05__\n",
        "\n",
        "------------------------------------------------------------------------\n",
        "\n",
        "Hyper Parameters:\n",
        "\n",
        "```\n",
        "n_epochs = 4\n",
        "w_decay = 1e-3\n",
        "momentum = 0.9\n",
        "batch_size = 128\n",
        "learn_rate = 0.001\n",
        "optim_algorithm = 'sgd'\n",
        "\n",
        "transf_crop = 224\n",
        "transf_resize_test = 230\n",
        "transf_resize_train = 255\n",
        "```\n",
        "\n",
        "Test Results\n",
        "\n",
        "    Accuracy: 0.9135\n",
        "    Precision (average): 0.9255\n",
        "    Recall (average): 0.6321\n",
        "    F1 Score (Normal): 0.8789\n",
        "    F1 Score (Pneumonia): 0.9327"
      ],
      "metadata": {
        "id": "CF16zKVDmJGf"
      }
    },
    {
      "cell_type": "markdown",
      "source": [
        "##### **Definition**"
      ],
      "metadata": {
        "id": "g2WmarVimMSH"
      }
    },
    {
      "cell_type": "code",
      "execution_count": null,
      "metadata": {
        "id": "S3nR3UhB9WPj",
        "colab": {
          "base_uri": "https://localhost:8080/"
        },
        "outputId": "ec4af0c1-1ba1-4fd2-f39a-3d21109bed53"
      },
      "outputs": [
        {
          "output_type": "execute_result",
          "data": {
            "text/plain": [
              "device(type='cuda', index=0)"
            ]
          },
          "metadata": {},
          "execution_count": 4
        }
      ],
      "source": [
        "\n",
        "version = '05'\n",
        "DEVICE = torch.device(\"cuda:0\" if torch.cuda.is_available() else \"cpu\")\n",
        "\n",
        "# Hyper Parameters\n",
        "n_epochs = 4\n",
        "w_decay = 1e-3\n",
        "momentum = 0.9\n",
        "batch_size = 128\n",
        "learn_rate = 0.001\n",
        "optim_algorithm = 'sgd'\n",
        "\n",
        "transf_crop = 224\n",
        "transf_resize_test = 230\n",
        "transf_resize_train = 255\n",
        "\n",
        "# Paths\n",
        "path_dir_data = \"/content/drive/MyDrive/Colab Notebooks/pneumonia/file/chest_xray\" # Change it!\n",
        "path_dir_val = os.path.join(path_dir_data, 'val')\n",
        "path_dir_test =  os.path.join(path_dir_data, 'test')\n",
        "path_dir_train =  os.path.join(path_dir_data, 'train')\n",
        "path_dir_train_pneumonia = os.path.join(path_dir_train, 'PNEUMONIA')\n",
        "path_dir_models = os.path.join(path_dir_data, f'models/model_{version}')\n",
        "\n",
        "path_file_model = os.path.join(path_dir_models, f'model_{version}.pt')\n",
        "path_file_roc_recall = os.path.join(path_dir_models, f'model_{version}-roc-recall.png')\n",
        "path_file_conf_matrix = os.path.join(path_dir_models, f'model_{version}-conf-matrix.png')\n",
        "\n",
        "DEVICE"
      ]
    },
    {
      "cell_type": "markdown",
      "metadata": {
        "id": "07PLFfQH9WPj"
      },
      "source": [
        "## Prepare data"
      ]
    },
    {
      "cell_type": "markdown",
      "metadata": {
        "id": "HTKSshh19WPk"
      },
      "source": [
        "#### Colab only..."
      ]
    },
    {
      "cell_type": "code",
      "execution_count": null,
      "metadata": {
        "colab": {
          "base_uri": "https://localhost:8080/"
        },
        "id": "Yt34x_OZWD42",
        "outputId": "69bd91ee-c6b1-4d33-ce10-dfaf8d90749b"
      },
      "outputs": [
        {
          "output_type": "stream",
          "name": "stdout",
          "text": [
            "Mounted at /content/drive\n"
          ]
        }
      ],
      "source": [
        "from google.colab import drive\n",
        "drive.mount('/content/drive')"
      ]
    },
    {
      "cell_type": "markdown",
      "metadata": {
        "id": "G2rqkBdp9WPo"
      },
      "source": [
        "### Load dataset"
      ]
    },
    {
      "cell_type": "markdown",
      "source": [
        "Dataset is downloaded dynamically if you don't have it already in your Google drive."
      ],
      "metadata": {
        "id": "kwb2kJCuwWs4"
      }
    },
    {
      "cell_type": "markdown",
      "source": [
        "##### **Data Augmentationn $+$ Data Balancing**"
      ],
      "metadata": {
        "id": "gBcomsRSwB78"
      }
    },
    {
      "cell_type": "markdown",
      "source": [
        "To improve the variability of data seen by the model along the training we use PyTorch's data transformation pipelines API.\n",
        "\n",
        "Besides that our data is unbalanced as we can check on the following cells. To reduce the risk of biasing our model we face this matter using the stratagy of weighting data sampling thoughout the training batches using Pytorch's own implementation."
      ],
      "metadata": {
        "id": "GdNQ1t7IsIJH"
      }
    },
    {
      "cell_type": "markdown",
      "source": [
        "##### Definitions"
      ],
      "metadata": {
        "id": "gLCMS2MLvn1L"
      }
    },
    {
      "cell_type": "code",
      "execution_count": null,
      "metadata": {
        "id": "w1ONSCEdqspM",
        "colab": {
          "base_uri": "https://localhost:8080/"
        },
        "outputId": "11d2ace4-a848-414c-e6d0-115c84800638"
      },
      "outputs": [
        {
          "output_type": "stream",
          "name": "stdout",
          "text": [
            "[size: train] Normal: 1341\n",
            "[size: train] Pneumonia: 3875\n",
            "--------------------------------------------------------------------------------\n",
            "[size: loader] loader_train: 41\n",
            "[size: loader] loader_test: 5\n",
            "[size: loader] loader_validation: 1\n",
            "--------------------------------------------------------------------------------\n",
            "Train: 5216 images, Test: 624 images, Validation: 16 images\n",
            "Classes: {'NORMAL': 0, 'PNEUMONIA': 1}\n",
            "Images shape: torch.Size([128, 3, 224, 224])\n",
            "Labels shape: torch.Size([128])\n"
          ]
        }
      ],
      "source": [
        "# Data Trasformers\n",
        "transf_train = transforms.Compose([\n",
        "    transforms.Resize(transf_resize_train, interpolation=InterpolationMode.BILINEAR),\n",
        "    transforms.RandomCrop(transf_crop),\n",
        "    transforms.ToTensor(), # Converts pixels [0-255] to tensors [0-1]\n",
        "    transforms.Normalize(mean=[0.485, 0.456, 0.406], std=[0.229, 0.224, 0.225])\n",
        "])\n",
        "\n",
        "transf_test = transforms.Compose([\n",
        "    transforms.Resize(transf_resize_test, interpolation=InterpolationMode.BILINEAR),\n",
        "    transforms.CenterCrop(transf_crop),\n",
        "    transforms.ToTensor(),\n",
        "    transforms.Normalize(mean=[0.485, 0.456, 0.406], std=[0.229, 0.224, 0.225])\n",
        "])\n",
        "\n",
        "transf_validation = transf_test\n",
        "\n",
        "# Datasets\n",
        "ds_train = datasets.ImageFolder(path_dir_train, transform=transf_train)\n",
        "ds_validation = datasets.ImageFolder(path_dir_val, transform=transf_validation)\n",
        "ds_test = datasets.ImageFolder(path_dir_test, transform=transf_test)\n",
        "\n",
        "n_train = len(ds_train)\n",
        "n_test = len(ds_test)\n",
        "n_validation = len(ds_validation)\n",
        "\n",
        "# Data augmentation (with Weighted sampling)\n",
        "class_count = Counter(ds_train.targets)\n",
        "n_normal = class_count[0]\n",
        "n_pneumonia = class_count[1]\n",
        "\n",
        "class_weights = 1. / np.array([n_normal, n_pneumonia])\n",
        "sample_weight = torch.FloatTensor([class_weights[t] for t in ds_train.targets])\n",
        "sampler = WeightedRandomSampler(weights=sample_weight, num_samples=len(sample_weight), replacement=True)\n",
        "\n",
        "print('[size: train] Normal: {}'.format(n_normal))\n",
        "print('[size: train] Pneumonia: {}'.format(n_pneumonia))\n",
        "print('-' * 80)\n",
        "\n",
        "# Data loaders\n",
        "loader_train = DataLoader(ds_train, batch_size=batch_size, sampler=sampler)\n",
        "# loader_train = DataLoader(ds_train, batch_size=batch_size, shuffle=True)\n",
        "loader_test = DataLoader(ds_test, batch_size=batch_size, shuffle=False)\n",
        "loader_validation = DataLoader(ds_validation, batch_size=batch_size, shuffle=True)\n",
        "\n",
        "print('[size: loader] loader_train: {}'.format(len(loader_train)))\n",
        "print('[size: loader] loader_test: {}'.format(len(loader_test)))\n",
        "print('[size: loader] loader_validation: {}'.format(len(loader_validation)))\n",
        "print('-' * 80)\n",
        "\n",
        "# See what we've done\n",
        "images, labels = iter(loader_train).next()\n",
        "print('Train: {} images, Test: {} images, Validation: {} images'.format(n_train, n_test, n_validation))\n",
        "print('Classes: ' + str(ds_train.class_to_idx))\n",
        "print('Images shape: {}'.format(str(images.shape))) # torch.Size([32, 3, 54, 54])\n",
        "print('Labels shape: {}'.format(str(labels.shape))) # torch.Size([32])\n"
      ]
    },
    {
      "cell_type": "markdown",
      "metadata": {
        "id": "_vSRBl_19WPq"
      },
      "source": [
        "### See data distribution"
      ]
    },
    {
      "cell_type": "code",
      "execution_count": null,
      "metadata": {
        "id": "00Vd8KcT9WPr",
        "colab": {
          "base_uri": "https://localhost:8080/",
          "height": 395
        },
        "outputId": "400baf32-7372-40e1-9e0b-e9417549b8dc"
      },
      "outputs": [
        {
          "output_type": "display_data",
          "data": {
            "text/plain": [
              "<Figure size 432x432 with 1 Axes>"
            ],
            "image/png": "[encoded data removed]"
          },
          "metadata": {
            "needs_background": "light"
          }
        }
      ],
      "source": [
        "df_train_unbalanced = pd.DataFrame.from_dict({ 'Normal': [n_normal], 'Pneumonia': [n_pneumonia] })\n",
        "\n",
        "plt.figure(figsize=(6, 6))\n",
        "plot = sns.barplot(data=df_train_unbalanced)\n",
        "plot.set_title('Training Data Distribuition', fontsize=20)\n",
        "plt.show()"
      ]
    },
    {
      "cell_type": "markdown",
      "metadata": {
        "id": "BAlndOLU9WPu"
      },
      "source": [
        "### See our images"
      ]
    },
    {
      "cell_type": "code",
      "execution_count": null,
      "metadata": {
        "colab": {
          "base_uri": "https://localhost:8080/",
          "height": 289
        },
        "id": "O5AJu0mMxgNh",
        "outputId": "cce27bbe-ac0a-41c6-e39e-2b47d1ea4f19"
      },
      "outputs": [
        {
          "output_type": "display_data",
          "data": {
            "text/plain": [
              "<Figure size 1152x360 with 4 Axes>"
            ],
            "image/png": "[encoded data removed]"
          },
          "metadata": {
            "needs_background": "light"
          }
        }
      ],
      "source": [
        "path_imgs = os.listdir(path_dir_train_pneumonia)\n",
        "random.shuffle(path_imgs)\n",
        "\n",
        "fig = plt.figure(figsize=(16, 5))\n",
        "fig.suptitle(\"Positive\", size=22)\n",
        "\n",
        "for i, image in enumerate(path_imgs[:4]):\n",
        "    img_path = os.path.join(path_dir_train_pneumonia, image)\n",
        "    img = cv2.imread(img_path)\n",
        "    plt.subplot(1, 4, i + 1, frameon=False)\n",
        "    plt.imshow(img)\n",
        "fig.show()"
      ]
    },
    {
      "cell_type": "markdown",
      "metadata": {
        "id": "It8xRKn0Sbie"
      },
      "source": [
        "## Build Model\n"
      ]
    },
    {
      "cell_type": "markdown",
      "metadata": {
        "id": "1w_qSPZDzTWe"
      },
      "source": [
        "### Model backbone: resnet18, pretrained\n",
        "\n",
        "- Backbone _(feature extractor)_: __Resnet__\n",
        "- We use pre-trained weights of Resnet (from `torch.models`) to increase accuracy & reduce training time.\n"
      ]
    },
    {
      "cell_type": "code",
      "execution_count": null,
      "metadata": {
        "id": "hdudxc8WSbLC",
        "colab": {
          "base_uri": "https://localhost:8080/"
        },
        "outputId": "c64a6adb-1030-4fbf-d170-d1a14b41f489"
      },
      "outputs": [
        {
          "output_type": "stream",
          "name": "stderr",
          "text": [
            "/usr/local/lib/python3.7/dist-packages/torchvision/models/_utils.py:209: UserWarning: The parameter 'pretrained' is deprecated since 0.13 and will be removed in 0.15, please use 'weights' instead.\n",
            "  f\"The parameter '{pretrained_param}' is deprecated since 0.13 and will be removed in 0.15, \"\n",
            "/usr/local/lib/python3.7/dist-packages/torchvision/models/_utils.py:223: UserWarning: Arguments other than a weight enum or `None` for 'weights' are deprecated since 0.13 and will be removed in 0.15. The current behavior is equivalent to passing `weights=ResNet18_Weights.IMAGENET1K_V1`. You can also use `weights=ResNet18_Weights.DEFAULT` to get the most up-to-date weights.\n",
            "  warnings.warn(msg)\n"
          ]
        }
      ],
      "source": [
        "\n",
        "'''\n",
        "\tNOTE: We need to replace the original last layer\n",
        "\t- Last layer is a linear fully connected one with many outputs;\n",
        "\t- Our net needs 02 (as we have 02 classes);\n",
        "\t- We replace it so it becomes a binary classifier;\n",
        "\t- We end up with a new last layer holding the same number of inputs but only 02 outputs:\n",
        "\t\n",
        "\tNOTE: The end network has no activation function\n",
        "\t- For our binary classification we'd need a sigmoid activation;\n",
        "\t- But we skip this job as our cost function already handles this;\n",
        "'''\n",
        "\n",
        "model = models.resnet18(pretrained=True)\n",
        "for params in model.parameters():\t# Freeze parameters (so pre-trained convolution layers don't change)\n",
        "\t\tparams.requires_grad_ = False\n",
        "\n",
        "n_filters = model.fc.in_features\n",
        "model.fc = torch.nn.Linear(n_filters, 2) # Replace last layer\n",
        "model = model.to(DEVICE)\n",
        "\n",
        "criterion = torch.nn.CrossEntropyLoss() # Loss function\n",
        "\n",
        "# Optimization\n",
        "if optim_algorithm == 'adam':\n",
        "\t\toptimizer = optim.Adam(model.parameters(), lr=learn_rate)\n",
        "elif optim_algorithm == 'sgd':\n",
        "\t\toptimizer = optim.SGD(model.parameters(), lr=learn_rate, momentum=momentum)\n"
      ]
    },
    {
      "cell_type": "markdown",
      "source": [
        "#### See model"
      ],
      "metadata": {
        "id": "ftlddu5zJhUZ"
      }
    },
    {
      "cell_type": "code",
      "source": [
        "print(model)"
      ],
      "metadata": {
        "id": "LIMixaxFJjfK",
        "colab": {
          "base_uri": "https://localhost:8080/"
        },
        "outputId": "235334ae-0fb5-4c5b-eae4-bdbca6df1788"
      },
      "execution_count": null,
      "outputs": [
        {
          "output_type": "stream",
          "name": "stdout",
          "text": [
            "ResNet(\n",
            "  (conv1): Conv2d(3, 64, kernel_size=(7, 7), stride=(2, 2), padding=(3, 3), bias=False)\n",
            "  (bn1): BatchNorm2d(64, eps=1e-05, momentum=0.1, affine=True, track_running_stats=True)\n",
            "  (relu): ReLU(inplace=True)\n",
            "  (maxpool): MaxPool2d(kernel_size=3, stride=2, padding=1, dilation=1, ceil_mode=False)\n",
            "  (layer1): Sequential(\n",
            "    (0): BasicBlock(\n",
            "      (conv1): Conv2d(64, 64, kernel_size=(3, 3), stride=(1, 1), padding=(1, 1), bias=False)\n",
            "      (bn1): BatchNorm2d(64, eps=1e-05, momentum=0.1, affine=True, track_running_stats=True)\n",
            "      (relu): ReLU(inplace=True)\n",
            "      (conv2): Conv2d(64, 64, kernel_size=(3, 3), stride=(1, 1), padding=(1, 1), bias=False)\n",
            "      (bn2): BatchNorm2d(64, eps=1e-05, momentum=0.1, affine=True, track_running_stats=True)\n",
            "    )\n",
            "    (1): BasicBlock(\n",
            "      (conv1): Conv2d(64, 64, kernel_size=(3, 3), stride=(1, 1), padding=(1, 1), bias=False)\n",
            "      (bn1): BatchNorm2d(64, eps=1e-05, momentum=0.1, affine=True, track_running_stats=True)\n",
            "      (relu): ReLU(inplace=True)\n",
            "      (conv2): Conv2d(64, 64, kernel_size=(3, 3), stride=(1, 1), padding=(1, 1), bias=False)\n",
            "      (bn2): BatchNorm2d(64, eps=1e-05, momentum=0.1, affine=True, track_running_stats=True)\n",
            "    )\n",
            "  )\n",
            "  (layer2): Sequential(\n",
            "    (0): BasicBlock(\n",
            "      (conv1): Conv2d(64, 128, kernel_size=(3, 3), stride=(2, 2), padding=(1, 1), bias=False)\n",
            "      (bn1): BatchNorm2d(128, eps=1e-05, momentum=0.1, affine=True, track_running_stats=True)\n",
            "      (relu): ReLU(inplace=True)\n",
            "      (conv2): Conv2d(128, 128, kernel_size=(3, 3), stride=(1, 1), padding=(1, 1), bias=False)\n",
            "      (bn2): BatchNorm2d(128, eps=1e-05, momentum=0.1, affine=True, track_running_stats=True)\n",
            "      (downsample): Sequential(\n",
            "        (0): Conv2d(64, 128, kernel_size=(1, 1), stride=(2, 2), bias=False)\n",
            "        (1): BatchNorm2d(128, eps=1e-05, momentum=0.1, affine=True, track_running_stats=True)\n",
            "      )\n",
            "    )\n",
            "    (1): BasicBlock(\n",
            "      (conv1): Conv2d(128, 128, kernel_size=(3, 3), stride=(1, 1), padding=(1, 1), bias=False)\n",
            "      (bn1): BatchNorm2d(128, eps=1e-05, momentum=0.1, affine=True, track_running_stats=True)\n",
            "      (relu): ReLU(inplace=True)\n",
            "      (conv2): Conv2d(128, 128, kernel_size=(3, 3), stride=(1, 1), padding=(1, 1), bias=False)\n",
            "      (bn2): BatchNorm2d(128, eps=1e-05, momentum=0.1, affine=True, track_running_stats=True)\n",
            "    )\n",
            "  )\n",
            "  (layer3): Sequential(\n",
            "    (0): BasicBlock(\n",
            "      (conv1): Conv2d(128, 256, kernel_size=(3, 3), stride=(2, 2), padding=(1, 1), bias=False)\n",
            "      (bn1): BatchNorm2d(256, eps=1e-05, momentum=0.1, affine=True, track_running_stats=True)\n",
            "      (relu): ReLU(inplace=True)\n",
            "      (conv2): Conv2d(256, 256, kernel_size=(3, 3), stride=(1, 1), padding=(1, 1), bias=False)\n",
            "      (bn2): BatchNorm2d(256, eps=1e-05, momentum=0.1, affine=True, track_running_stats=True)\n",
            "      (downsample): Sequential(\n",
            "        (0): Conv2d(128, 256, kernel_size=(1, 1), stride=(2, 2), bias=False)\n",
            "        (1): BatchNorm2d(256, eps=1e-05, momentum=0.1, affine=True, track_running_stats=True)\n",
            "      )\n",
            "    )\n",
            "    (1): BasicBlock(\n",
            "      (conv1): Conv2d(256, 256, kernel_size=(3, 3), stride=(1, 1), padding=(1, 1), bias=False)\n",
            "      (bn1): BatchNorm2d(256, eps=1e-05, momentum=0.1, affine=True, track_running_stats=True)\n",
            "      (relu): ReLU(inplace=True)\n",
            "      (conv2): Conv2d(256, 256, kernel_size=(3, 3), stride=(1, 1), padding=(1, 1), bias=False)\n",
            "      (bn2): BatchNorm2d(256, eps=1e-05, momentum=0.1, affine=True, track_running_stats=True)\n",
            "    )\n",
            "  )\n",
            "  (layer4): Sequential(\n",
            "    (0): BasicBlock(\n",
            "      (conv1): Conv2d(256, 512, kernel_size=(3, 3), stride=(2, 2), padding=(1, 1), bias=False)\n",
            "      (bn1): BatchNorm2d(512, eps=1e-05, momentum=0.1, affine=True, track_running_stats=True)\n",
            "      (relu): ReLU(inplace=True)\n",
            "      (conv2): Conv2d(512, 512, kernel_size=(3, 3), stride=(1, 1), padding=(1, 1), bias=False)\n",
            "      (bn2): BatchNorm2d(512, eps=1e-05, momentum=0.1, affine=True, track_running_stats=True)\n",
            "      (downsample): Sequential(\n",
            "        (0): Conv2d(256, 512, kernel_size=(1, 1), stride=(2, 2), bias=False)\n",
            "        (1): BatchNorm2d(512, eps=1e-05, momentum=0.1, affine=True, track_running_stats=True)\n",
            "      )\n",
            "    )\n",
            "    (1): BasicBlock(\n",
            "      (conv1): Conv2d(512, 512, kernel_size=(3, 3), stride=(1, 1), padding=(1, 1), bias=False)\n",
            "      (bn1): BatchNorm2d(512, eps=1e-05, momentum=0.1, affine=True, track_running_stats=True)\n",
            "      (relu): ReLU(inplace=True)\n",
            "      (conv2): Conv2d(512, 512, kernel_size=(3, 3), stride=(1, 1), padding=(1, 1), bias=False)\n",
            "      (bn2): BatchNorm2d(512, eps=1e-05, momentum=0.1, affine=True, track_running_stats=True)\n",
            "    )\n",
            "  )\n",
            "  (avgpool): AdaptiveAvgPool2d(output_size=(1, 1))\n",
            "  (fc): Linear(in_features=512, out_features=2, bias=True)\n",
            ")\n"
          ]
        }
      ]
    },
    {
      "cell_type": "markdown",
      "metadata": {
        "id": "Jb0qUp3N5Thw"
      },
      "source": [
        "## Training"
      ]
    },
    {
      "cell_type": "markdown",
      "metadata": {
        "id": "Zv-jLkRc9WPx"
      },
      "source": [
        "#### Train"
      ]
    },
    {
      "cell_type": "code",
      "execution_count": null,
      "metadata": {
        "id": "5EVZDFpp5-LQ",
        "colab": {
          "base_uri": "https://localhost:8080/"
        },
        "outputId": "5c0f9e11-07ac-4b92-da49-a9f1edb8dd76"
      },
      "outputs": [
        {
          "output_type": "stream",
          "name": "stdout",
          "text": [
            "Epoch 1/4\n"
          ]
        },
        {
          "output_type": "stream",
          "name": "stderr",
          "text": [
            "100%|██████████| 41/41 [02:42<00:00,  3.96s/it]\n"
          ]
        },
        {
          "output_type": "stream",
          "name": "stdout",
          "text": [
            "Train Loss: 0.3112; Train Accuracy: 0.8773\n",
            "Val Loss: 0.3651; Val Accuracy: 0.7500\n",
            "----------------------------------------\n",
            "Epoch 2/4\n"
          ]
        },
        {
          "output_type": "stream",
          "name": "stderr",
          "text": [
            "100%|██████████| 41/41 [02:35<00:00,  3.79s/it]\n"
          ]
        },
        {
          "output_type": "stream",
          "name": "stdout",
          "text": [
            "Train Loss: 0.1190; Train Accuracy: 0.9563\n",
            "Val Loss: 0.2133; Val Accuracy: 0.9375\n",
            "----------------------------------------\n",
            "Epoch 3/4\n"
          ]
        },
        {
          "output_type": "stream",
          "name": "stderr",
          "text": [
            "100%|██████████| 41/41 [02:29<00:00,  3.64s/it]\n"
          ]
        },
        {
          "output_type": "stream",
          "name": "stdout",
          "text": [
            "Train Loss: 0.0989; Train Accuracy: 0.9632\n",
            "Val Loss: 0.1591; Val Accuracy: 0.9375\n",
            "----------------------------------------\n",
            "Epoch 4/4\n"
          ]
        },
        {
          "output_type": "stream",
          "name": "stderr",
          "text": [
            "100%|██████████| 41/41 [02:23<00:00,  3.51s/it]\n"
          ]
        },
        {
          "output_type": "stream",
          "name": "stdout",
          "text": [
            "Train Loss: 0.0790; Train Accuracy: 0.9711\n",
            "Val Loss: 0.0993; Val Accuracy: 1.0000\n",
            "----------------------------------------\n",
            "Training complete in 10m 12s\n",
            "Best Val Acc: 1.0000\n"
          ]
        }
      ],
      "source": [
        "since = time.time()\n",
        "best_model = copy.deepcopy(model.state_dict())\n",
        "best_accuracy = 0.0\n",
        "train_balances = []\n",
        "\n",
        "for epoch in range(n_epochs):\n",
        "    print('Epoch {}/{}'.format(epoch + 1, n_epochs))\n",
        "    \n",
        "    # Train\n",
        "    model.train()\n",
        "    running_loss = 0.0\n",
        "    running_corrects = 0\n",
        "    running_balances = []\n",
        "    \n",
        "    for inputs, labels in tqdm(loader_train, total=len(loader_train)):\n",
        "        running_balances.append(Counter(labels.numpy()))\n",
        "        \n",
        "        inputs = inputs.to(DEVICE)\n",
        "        labels = labels.to(DEVICE)\n",
        "        optimizer.zero_grad()\n",
        "\n",
        "        with torch.set_grad_enabled(True):\n",
        "            outputs = model(inputs)\n",
        "            _, y_hat = torch.max(outputs, 1)\n",
        "\n",
        "            loss = criterion(outputs, labels)\n",
        "            loss.backward()\n",
        "            optimizer.step()\n",
        "\n",
        "        running_loss += loss.item() * inputs.size(0) # TODO: Figure this out\n",
        "        running_corrects += torch.sum(y_hat == labels.data)\n",
        "\n",
        "    epoch_loss = running_loss / n_train\n",
        "    epoch_accuracy = running_corrects.double() / n_train\n",
        "    train_balances.append(running_balances)\n",
        "    print('Train Loss: {:.4f}; Train Accuracy: {:.4f}'.format(epoch_loss, epoch_accuracy))\n",
        "    \n",
        "    # Validate\n",
        "    model.eval()\n",
        "    running_loss = 0.0\n",
        "    running_corrects = 0\n",
        "\n",
        "    for inputs, labels in loader_validation:\n",
        "        \n",
        "        inputs = inputs.to(DEVICE)\n",
        "        labels = labels.to(DEVICE)\n",
        "        optimizer.zero_grad()\n",
        "        \n",
        "        with torch.set_grad_enabled(False):\n",
        "            outputs = model(inputs)\n",
        "            _, y_hat = torch.max(outputs, 1)\n",
        "            loss = criterion(outputs, labels)\n",
        "        \n",
        "        running_loss += loss.item() * inputs.size(0) # TODO: Figure this out\n",
        "        running_corrects += torch.sum(y_hat == labels.data)\n",
        "\n",
        "  \n",
        "    epoch_loss = running_loss / n_validation\n",
        "    epoch_accuracy = running_corrects.double() / n_validation\n",
        "    print('Val Loss: {:.4f}; Val Accuracy: {:.4f}'.format(epoch_loss, epoch_accuracy))\n",
        "    print('-' * 40)\n",
        "    \n",
        "    if epoch_accuracy > best_accuracy:\n",
        "        best_accuracy = epoch_accuracy\n",
        "        best_model = copy.deepcopy(model.state_dict())\n",
        "\n",
        "time_elapsed = time.time() - since\n",
        "model.load_state_dict(best_model)\n",
        "\n",
        "print('Training complete in {:.0f}m {:.0f}s'.format(time_elapsed // 60, time_elapsed % 60))\n",
        "print('Best Val Acc: {:.4f}'.format(best_accuracy))\n"
      ]
    },
    {
      "cell_type": "markdown",
      "metadata": {
        "id": "bWuxvVZp9WPz"
      },
      "source": [
        "#### Save classifier"
      ]
    },
    {
      "cell_type": "code",
      "execution_count": null,
      "metadata": {
        "id": "4PxpF-jM3YJk"
      },
      "outputs": [],
      "source": [
        "torch.save(model.state_dict(), path_file_model)"
      ]
    },
    {
      "cell_type": "markdown",
      "metadata": {
        "id": "_JvALxFw37E8"
      },
      "source": [
        "## Evaluation"
      ]
    },
    {
      "cell_type": "markdown",
      "source": [
        "#### Load saved model"
      ],
      "metadata": {
        "id": "oNoKvPMSokjy"
      }
    },
    {
      "cell_type": "code",
      "source": [
        "model.load_state_dict(torch.load(path_file_model))"
      ],
      "metadata": {
        "colab": {
          "base_uri": "https://localhost:8080/"
        },
        "id": "hahUkC8Hoo2b",
        "outputId": "39dd8870-8bad-478f-fbf4-f9ca4b8977db"
      },
      "execution_count": null,
      "outputs": [
        {
          "output_type": "execute_result",
          "data": {
            "text/plain": [
              "<All keys matched successfully>"
            ]
          },
          "metadata": {},
          "execution_count": 10
        }
      ]
    },
    {
      "cell_type": "markdown",
      "metadata": {
        "id": "QVDyYgiq9WP0"
      },
      "source": [
        "### Test"
      ]
    },
    {
      "cell_type": "code",
      "execution_count": null,
      "metadata": {
        "id": "gkDAIWJPxkQO",
        "colab": {
          "base_uri": "https://localhost:8080/"
        },
        "outputId": "db8bda6f-1353-4c55-9284-0859083a62b1"
      },
      "outputs": [
        {
          "output_type": "stream",
          "name": "stderr",
          "text": [
            "100%|██████████| 5/5 [00:12<00:00,  2.59s/it]"
          ]
        },
        {
          "output_type": "stream",
          "name": "stdout",
          "text": [
            "Test complete in 0m 13s\n"
          ]
        },
        {
          "output_type": "stream",
          "name": "stderr",
          "text": [
            "\n"
          ]
        }
      ],
      "source": [
        "since = time.time()\n",
        "was_training = model.training\n",
        "n_successes = 0\n",
        "test_balances = []\n",
        "\n",
        "targets = np.array([])\n",
        "outputs = np.array([])\n",
        "predictions = np.array([])\n",
        "\n",
        "model.eval()\n",
        "with torch.no_grad():\n",
        "  for inputs, labels in tqdm(loader_test, total=len(loader_test)):\n",
        "      test_balances.append(Counter(labels.numpy()))\n",
        "      \n",
        "      inputs = inputs.to(DEVICE)\n",
        "      labels = labels.to(DEVICE)\n",
        "\n",
        "      output_batch = model(inputs)\n",
        "      _, y_hat = torch.max(output_batch, 1)\n",
        "\n",
        "      targets = np.append(targets, labels.cpu().numpy())\n",
        "      outputs = np.append(outputs, output_batch.cpu().numpy()[:, 1])\n",
        "      predictions = np.append(predictions, y_hat.cpu().numpy())\n",
        "      n_successes += torch.sum(y_hat == labels.data)\n",
        "\n",
        "model.train(mode=was_training)\n",
        "test_accuracy = n_successes.double() / n_test\n",
        "time_test = time.time() - since\n",
        "\n",
        "print('Test complete in {:.0f}m {:.0f}s'.format(time_test // 60, time_test % 60))"
      ]
    },
    {
      "cell_type": "markdown",
      "source": [
        "### Analysis"
      ],
      "metadata": {
        "id": "wrNPwr2fzoSi"
      }
    },
    {
      "cell_type": "markdown",
      "source": [
        "One thing to keep in mind is that because of our goal's nature the accuracy metric is not enough to measure the model's fitness to the problem. As it is meant to be used for medical diagnosis support not all misclassifications are the same.\n",
        "\n",
        "A false negative is muche worse than a false positive. So in our analysis we should keep in mind that besides accuracy, model sensibility a valuable measure being prefered over precision."
      ],
      "metadata": {
        "id": "s2srFjEIxeCA"
      }
    },
    {
      "cell_type": "code",
      "source": [
        "\n",
        "f1_normal, f1_pneumonia = f1_score(targets, predictions, average=None)\n",
        "precision, recall, _ = precision_recall_curve(targets, outputs, pos_label=1)\n",
        "\n",
        "print(r\"Accuracy: %.4f\" % test_accuracy.item())\n",
        "print(r\"Precision (average): %.4f\" % precision.mean())\n",
        "print(r\"Recall (average): %.4f\" % recall.mean())\n",
        "print(r\"F1 Score (Normal): %.4f\" % f1_normal)\n",
        "print(r\"F1 Score (Pneumonia): %.4f\" % f1_pneumonia)\n",
        "print('')\n",
        "\n",
        "# Confusion Matrix\n",
        "plt.figure()\n",
        "\n",
        "matrix = confusion_matrix(targets, predictions)\n",
        "plot_confusion_matrix(matrix, figsize=(6, 6))\n",
        "\n",
        "plt.title('Confusion Matrix', fontsize=22)\n",
        "plt.xticks(range(2), ds_train.classes, fontsize=10)\n",
        "plt.yticks(range(2), ds_train.classes, fontsize=10)\n",
        "plt.xlabel('Predicted', fontsize=12)\n",
        "plt.ylabel('Real', fontsize=12)\n",
        "plt.savefig(path_file_conf_matrix)\n",
        "plt.show()\n",
        "print('')\n",
        "\n",
        "# ROC Curve\n",
        "fig, (ax1, ax2) = plt.subplots(1, 2, figsize=(16, 6))\n",
        "\n",
        "fpr, tpr, _ = roc_curve(targets, outputs, pos_label=1)\n",
        "display_roc = RocCurveDisplay(fpr=fpr, tpr=tpr)\n",
        "ax1.set_title('ROC Curve', fontsize=22)\n",
        "display_roc.plot(ax=ax1)\n",
        "\n",
        "# Precision x Recall Curve\n",
        "display_precision_recall = PrecisionRecallDisplay(precision=precision, recall=recall)\n",
        "ax2.set_title('Precision vs. Recall Curve', fontsize=22)\n",
        "display_precision_recall.plot(ax=ax2)\n",
        "plt.savefig(path_file_roc_recall)\n",
        "plt.show()\n",
        "\n",
        "\n"
      ],
      "metadata": {
        "colab": {
          "base_uri": "https://localhost:8080/",
          "height": 918
        },
        "id": "Jz-Jek_J4j3C",
        "outputId": "10e71714-c596-4698-82f9-0679facd70e3"
      },
      "execution_count": null,
      "outputs": [
        {
          "output_type": "stream",
          "name": "stdout",
          "text": [
            "Accuracy: 0.9135\n",
            "Precision (average): 0.9255\n",
            "Recall (average): 0.6321\n",
            "F1 Score (Normal): 0.8789\n",
            "F1 Score (Pneumonia): 0.9327\n",
            "\n"
          ]
        },
        {
          "output_type": "display_data",
          "data": {
            "text/plain": [
              "<Figure size 432x288 with 0 Axes>"
            ]
          },
          "metadata": {}
        },
        {
          "output_type": "display_data",
          "data": {
            "text/plain": [
              "<Figure size 432x432 with 1 Axes>"
            ],
            "image/png": "[encoded data removed]"
          },
          "metadata": {
            "needs_background": "light"
          }
        },
        {
          "output_type": "stream",
          "name": "stdout",
          "text": [
            "\n"
          ]
        },
        {
          "output_type": "display_data",
          "data": {
            "text/plain": [
              "<Figure size 1152x432 with 2 Axes>"
            ],
            "image/png": "[encoded data removed]"
          },
          "metadata": {
            "needs_background": "light"
          }
        }
      ]
    }
  ],
  "metadata": {
    "accelerator": "GPU",
    "colab": {
      "name": "nb_pneumonia.ipynb",
      "provenance": [],
      "collapsed_sections": [
        "HTKSshh19WPk",
        "_vSRBl_19WPq",
        "BAlndOLU9WPu",
        "ftlddu5zJhUZ",
        "Zv-jLkRc9WPx",
        "oNoKvPMSokjy"
      ]
    },
    "gpuClass": "standard",
    "kernelspec": {
      "display_name": "Python 3.8.10 64-bit",
      "language": "python",
      "name": "python3"
    },
    "language_info": {
      "codemirror_mode": {
        "name": "ipython",
        "version": 3
      },
      "file_extension": ".py",
      "mimetype": "text/x-python",
      "name": "python",
      "nbconvert_exporter": "python",
      "pygments_lexer": "ipython3",
      "version": "3.8.10"
    },
    "vscode": {
      "interpreter": {
        "hash": "916dbcbb3f70747c44a77c7bcd40155683ae19c65e1c03b4aa3499c5328201f1"
      }
    }
  },
  "nbformat": 4,
  "nbformat_minor": 0
}